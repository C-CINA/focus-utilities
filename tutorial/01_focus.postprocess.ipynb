{
 "cells": [
  {
   "cell_type": "markdown",
   "metadata": {},
   "source": [
    "# `focus.postprocess` Tutorial\n",
    "\n",
    "## Getting started\n",
    "\n",
    "First let's download [EMD-4432](https://www.ebi.ac.uk/pdbe/entry/emdb/EMD-4432) as an example for postprocessing from half-maps:\n",
    "\n",
    "(**NOTE:** internally, EMDB stores 3D maps in the MAP format, which is almost identical to the MRC format except the internal coordinates are stored in a different order - nothing to worry about here)"
   ]
  },
  {
   "cell_type": "code",
   "execution_count": null,
   "metadata": {},
   "outputs": [],
   "source": [
    "%%bash\n",
    "# Download the EMDB bundle containing half-maps, masks, etc:\n",
    "wget --content-disposition https://www.ebi.ac.uk/pdbe/entry/download/EMD-4432/bundle\n",
    "\n",
    "# Untar it:\n",
    "tar -xf EMD-4432.tar.gz"
   ]
  },
  {
   "cell_type": "markdown",
   "metadata": {},
   "source": [
    "## Running focus.postprocess\n",
    "\n",
    "Type `focus.postprocess --help` to obtain a list of all the options available.\n",
    "\n",
    "A typical usage of `focus.postprocess` looks like:\n",
    "\n",
    "### Creating a shaped mask automatically:"
   ]
  },
  {
   "cell_type": "code",
   "execution_count": null,
   "metadata": {},
   "outputs": [],
   "source": [
    "%%bash\n",
    "\n",
    "focus.postprocess EMD-4432/other/emd_4432_half_map_1.map EMD-4432/other/emd_4432_half_map_2.map \\ # Call the program with the two half-maps\n",
    "--angpix 1.3 \\ # Provide the correct pixel size\n",
    "--mtf ../../mtf/data_mtf_k2_300kv.star \\ # Provide the MTF .star file for sharpening\n",
    "--auto_bfac -1,-1 \\ # Estimate sharpening B-factor automatically. Here -1,-1 means the default value for the low- and high-resolution limits for Guinier plot fitting.\n",
    "--automask \\ # Do automatic masking\n",
    "--mask_radius 0.8 \\ # Combine the automatic mask with a spherical mask covering 80% the box size (specifically, the radius is 0.8 * 0.5 * box_size) \n",
    "--randomize_below_fsc 0.8 \\ # Perform high-resolution noise substitution randomizing phases beyond the point where the FSC drops below this value\n",
    "--out postprocess # Default rootname for output (could be anything)\n",
    "\n",
    "# The above command in a single line:\n",
    "# focus.postprocess EMD-4432/other/emd_4432_half_map_1.map EMD-4432/other/emd_4432_half_map_2.map --angpix 1.3 --mtf ../../mtf/data_mtf_k2_300kv.star --auto_bfac -1,-1 --automask --mask_radius 0.8 --randomize_below_fsc 0.8 --out postprocess"
   ]
  },
  {
   "cell_type": "markdown",
   "metadata": {},
   "source": [
    "Running the command above should give you an output like\n",
    "```\n",
    "\n",
    "AUTO-MASKING INFO:\n",
    "Input volume will be low-pass filtered at 14.00 A by a cosine-edge across 5.0 Fourier voxels.\n",
    "Stats of input volume before low-pass:\n",
    "Min=-0.066739, Max=0.098559, Median=-0.003119, Mean=-0.000324, Std=0.016417\n",
    "Stats of input volume after low-pass (for binarization):\n",
    "Min=-0.035018, Max=0.049909, Median=-0.002938, Mean=-0.000324, Std=0.012123\n",
    "Thresholding method: 1.000 standard deviations above the mean\n",
    "Threshold for initial binarization: 0.011799\n",
    "Binary mask will be expanded by 3.0 voxels plus a soft cosine-edge of 6.0 voxels.\n",
    "Binarizing the low-pass filtered volume...\n",
    "Auto-masking done!\n",
    "\n",
    "\n",
    "Calculating unmasked FSC...\n",
    "FSC >= 0.143 until 4.507 A (unmasked)\n",
    "Area under FSC (unmasked): 22.735\n",
    "\n",
    "Calculating masked FSC...\n",
    "FSC >= 0.143 until 4.097 A (masked)\n",
    "Area under FSC (masked): 26.898\n",
    "\n",
    "Randomizing phases beyond 7.511 A...\n",
    "\n",
    "\n",
    "Calculating masked FSC for phase-randomized maps...\n",
    "FSC >= 0.143 until 4.097 A (masked - true)\n",
    "Area under FSC (masked - true): 25.640\n",
    "\n",
    "Averaging the two half-maps...\n",
    "Applying FSC weighting (Cref) to the map...\n",
    "Dividing map by the detector MTF...\n",
    "\n",
    "Estimating contrast decay (B-factor) from Guinier plot between 10.000 A and 4.097 A...\n",
    "\n",
    "Slope of fit: -38.8280\n",
    "Intercept of fit: -3.1668\n",
    "Correlation of fit: 0.87797\n",
    "B-factor for contrast restoration: -155.3122 A^2\n",
    "\n",
    "Band-pass filtering the map between resolution cutoffs 135.200 A and 4.097 A...\n",
    "Masking the map...\n",
    "\n",
    "Done!\n",
    "```\n",
    "\n",
    "Finally, we can look at the generated FSC curves:\n",
    "![postprocess_fsc.png](postprocess_fsc.png)\n",
    "\n",
    "__TIP:__ You can use the `--svg` option to generate your FSC plots in vectorial format, which in turn you can edit using programs like Inkscape or Adobe Illustrator to change colors, add/remove grids, change fonts, etc.\n",
    "\n",
    "### Creating a shaped mask automatically:\n",
    "\n",
    "Alternatively, we know the molecular weight of MloK1 is about 160 kDa. Instead of creating (or providing) a shaped mask, we could instead just apply a spherical mask and use this information to adjust the FSC curve to the \"true\" signal present in the box (this is the approach used in FREALIGN and cisTEM):"
   ]
  },
  {
   "cell_type": "code",
   "execution_count": null,
   "metadata": {},
   "outputs": [],
   "source": [
    "%%bash\n",
    "\n",
    "focus.postprocess EMD-4432/other/emd_4432_half_map_1.map EMD-4432/other/emd_4432_half_map_2.map \\ # Call the program with the two half-maps\n",
    "--angpix 1.3 \\ # Provide the correct pixel size\n",
    "--mtf ../../mtf/data_mtf_k2_300kv.star \\ # Provide the MTF .star file for sharpening\n",
    "--auto_bfac -1,-1 \\ # Estimate sharpening B-factor automatically. Here -1,-1 means the default value for the low- and high-resolution limits for Guinier plot fitting.\n",
    "--mask_radius 0.8 \\ # Combine the automatic mask with a spherical mask covering 80% the box size (specifically, the radius is 0.8 * 0.5 * box_size) \n",
    "--mw 160.0 \\ # The molecular weight of MloK1\n",
    "--out postprocess_mw # Default rootname for output (could be anything)\n",
    "\n",
    "# The above command in a single line:\n",
    "# focus.postprocess EMD-4432/other/emd_4432_half_map_1.map EMD-4432/other/emd_4432_half_map_2.map --angpix 1.3 --mtf ../../mtf/data_mtf_k2_300kv.star --auto_bfac -1,-1 --mask_radius 0.8 --mw 160.0 --out postprocess_mw"
   ]
  },
  {
   "cell_type": "markdown",
   "metadata": {},
   "source": [
    "In this case, the FSC looks like this:\n",
    "![postprocess_mw_fsc.png](postprocess_mw_fsc.png)"
   ]
  },
  {
   "cell_type": "code",
   "execution_count": null,
   "metadata": {},
   "outputs": [],
   "source": []
  }
 ],
 "metadata": {
  "kernelspec": {
   "display_name": "Python 3",
   "language": "python",
   "name": "python3"
  },
  "language_info": {
   "codemirror_mode": {
    "name": "ipython",
    "version": 3
   },
   "file_extension": ".py",
   "mimetype": "text/x-python",
   "name": "python",
   "nbconvert_exporter": "python",
   "pygments_lexer": "ipython3",
   "version": "3.6.8"
  }
 },
 "nbformat": 4,
 "nbformat_minor": 2
}
