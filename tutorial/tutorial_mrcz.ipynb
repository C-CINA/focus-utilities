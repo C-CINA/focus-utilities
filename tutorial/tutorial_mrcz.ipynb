{
 "cells": [
  {
   "cell_type": "markdown",
   "metadata": {},
   "source": [
    "# `focus.mrcz` Tutorial\n",
    "\n",
    "## Getting started\n",
    "\n",
    "For this tutorial, let's download [EMD-4628](https://www.ebi.ac.uk/pdbe/entry/emdb/EMD-4628) as an example for using [MRCZ](https://github.com/em-MRCZ/python-mrcz) compression/decompression.  \n",
    "Although we will be working with a 3D map for simplicity here (and MRCZ comes in very handy when handling projects with _many_ 3D maps!), it can also be used on __2D micrographs__ or __movies__.\n",
    "\n",
    "(**NOTE:** internally, EMDB stores 3D maps in the MAP format, which is almost identical to the MRC format except the internal coordinates are stored in a different order - nothing to worry about here)"
   ]
  },
  {
   "cell_type": "code",
   "execution_count": null,
   "metadata": {},
   "outputs": [],
   "source": [
    "%%bash\n",
    "\n",
    "# Download the EMDB-4628 map:\n",
    "wget ftp://ftp.ebi.ac.uk/pub/databases/emdb/structures/EMD-4628/map/emd_4628.map.gz\n",
    "\n",
    "# Unzip it:\n",
    "gunzip emd_4628.map.gz"
   ]
  },
  {
   "cell_type": "markdown",
   "metadata": {},
   "source": [
    "## Compressing\n",
    "\n",
    "### Default options\n",
    "\n",
    "Compressing a MAP/MRC file is very very easy with the default options (compressor: zstd):\n",
    "\n",
    "**NOTE:** The warning message `No handlers could be found for logger \"mrcz.test_mrcz\"` can be safely ignored."
   ]
  },
  {
   "cell_type": "code",
   "execution_count": 2,
   "metadata": {},
   "outputs": [
    {
     "name": "stdout",
     "output_type": "stream",
     "text": [
      "No handlers could be found for logger \"mrcz.test_mrcz\"\r\n"
     ]
    }
   ],
   "source": [
    "!focus.mrcz emd_4628.map"
   ]
  },
  {
   "cell_type": "markdown",
   "metadata": {},
   "source": [
    "Now let's compare the size of our original file (`emd_4628.map`) with the compressed file (`emd_4628.mrcz`):"
   ]
  },
  {
   "cell_type": "code",
   "execution_count": 3,
   "metadata": {},
   "outputs": [
    {
     "name": "stdout",
     "output_type": "stream",
     "text": [
      "283M emd_4628.map\n",
      "30M emd_4628.mrcz\n"
     ]
    }
   ],
   "source": [
    "%%bash\n",
    "\\ls -sh emd_4628.map\n",
    "\\ls -sh emd_4628.mrcz"
   ]
  },
  {
   "cell_type": "markdown",
   "metadata": {},
   "source": [
    "A pretty decent compression ratio of ~0.10 :-)  \n",
    "Note, however, the beauty of MRCZ is not only the compression _ratio_ but also the (de)compression _rate_ (i.e. speed). Usually, the latter only becomes apparent if you are compressing or decompressing large amounts of data (e.g. in a script)."
   ]
  },
  {
   "cell_type": "markdown",
   "metadata": {},
   "source": [
    "### Exploring the compressors\n",
    "\n",
    "Now, let's compress our map using all the compressing algorithms provided by the [Blosc](http://blosc.org/) library via MRCZ:"
   ]
  },
  {
   "cell_type": "code",
   "execution_count": 4,
   "metadata": {},
   "outputs": [
    {
     "name": "stdout",
     "output_type": "stream",
     "text": [
      "108M emd_4628_blosclz.mrcz\n",
      " 36M emd_4628_lz4.mrcz\n",
      " 34M emd_4628_lz4hc.mrcz\n",
      " 33M emd_4628_zlib.mrcz\n",
      " 30M emd_4628_zstd.mrcz\n"
     ]
    },
    {
     "name": "stderr",
     "output_type": "stream",
     "text": [
      "No handlers could be found for logger \"mrcz.test_mrcz\"\n",
      "No handlers could be found for logger \"mrcz.test_mrcz\"\n",
      "No handlers could be found for logger \"mrcz.test_mrcz\"\n",
      "No handlers could be found for logger \"mrcz.test_mrcz\"\n",
      "No handlers could be found for logger \"mrcz.test_mrcz\"\n"
     ]
    }
   ],
   "source": [
    "%%bash\n",
    "\n",
    "focus.mrcz emd_4628.map --compressor blosclz --suffix blosclz\n",
    "focus.mrcz emd_4628.map --compressor lz4 --suffix lz4\n",
    "focus.mrcz emd_4628.map --compressor lz4hc --suffix lz4hc\n",
    "focus.mrcz emd_4628.map --compressor zlib --suffix zlib\n",
    "focus.mrcz emd_4628.map --compressor zstd --suffix zstd\n",
    "\n",
    "# Now let's compare their size:\n",
    "\\ls -Ssh emd_4628_* | cat"
   ]
  },
  {
   "cell_type": "markdown",
   "metadata": {},
   "source": [
    "## Decompressing\n",
    "\n",
    "Decompressing is also very easy:"
   ]
  },
  {
   "cell_type": "code",
   "execution_count": 5,
   "metadata": {},
   "outputs": [
    {
     "name": "stdout",
     "output_type": "stream",
     "text": [
      "No handlers could be found for logger \"mrcz.test_mrcz\"\r\n"
     ]
    }
   ],
   "source": [
    "!focus.mrcz emd_4628.mrcz --decompress "
   ]
  },
  {
   "cell_type": "markdown",
   "metadata": {},
   "source": [
    "Note the output file will be saved with the `.mrc` extension even though it was originally a `.map` file.  \n",
    "We can now compare the size of the uncompressed file with the original file and verify they are identical (except maybe for a few header bytes):"
   ]
  },
  {
   "cell_type": "code",
   "execution_count": 6,
   "metadata": {},
   "outputs": [
    {
     "name": "stdout",
     "output_type": "stream",
     "text": [
      "289412 emd_4628.map\n",
      "289408 emd_4628.mrc\n"
     ]
    }
   ],
   "source": [
    "%%bash\n",
    "\n",
    "\\ls -s emd_4628.map emd_4628.mrc | cat"
   ]
  },
  {
   "cell_type": "markdown",
   "metadata": {},
   "source": [
    "## Operating on multiple files\n",
    "\n",
    "`focus.mrcz` also accepts multiple input files at once, for example:\n",
    "\n",
    "`focus.mrcz *.mrc`\n",
    "\n",
    "would generate a compressed `.mrcz` file for every `.mrc` input (using the default options in this case)."
   ]
  }
 ],
 "metadata": {
  "kernelspec": {
   "display_name": "Python 3",
   "language": "python",
   "name": "python3"
  },
  "language_info": {
   "codemirror_mode": {
    "name": "ipython",
    "version": 3
   },
   "file_extension": ".py",
   "mimetype": "text/x-python",
   "name": "python",
   "nbconvert_exporter": "python",
   "pygments_lexer": "ipython3",
   "version": "3.6.8"
  }
 },
 "nbformat": 4,
 "nbformat_minor": 2
}
